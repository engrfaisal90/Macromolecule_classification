{
 "cells": [
  {
   "cell_type": "code",
   "execution_count": 1,
   "metadata": {},
   "outputs": [
    {
     "data": {
      "text/html": [
       "<div>\n",
       "<style scoped>\n",
       "    .dataframe tbody tr th:only-of-type {\n",
       "        vertical-align: middle;\n",
       "    }\n",
       "\n",
       "    .dataframe tbody tr th {\n",
       "        vertical-align: top;\n",
       "    }\n",
       "\n",
       "    .dataframe thead th {\n",
       "        text-align: right;\n",
       "    }\n",
       "</style>\n",
       "<table border=\"1\" class=\"dataframe\">\n",
       "  <thead>\n",
       "    <tr style=\"text-align: right;\">\n",
       "      <th></th>\n",
       "      <th>sequence</th>\n",
       "      <th>classification</th>\n",
       "    </tr>\n",
       "  </thead>\n",
       "  <tbody>\n",
       "    <tr>\n",
       "      <th>0</th>\n",
       "      <td>UCAGACUUUU</td>\n",
       "      <td>RNA</td>\n",
       "    </tr>\n",
       "    <tr>\n",
       "      <th>1</th>\n",
       "      <td>KGGWFGKHRG</td>\n",
       "      <td>Hybrid</td>\n",
       "    </tr>\n",
       "    <tr>\n",
       "      <th>2</th>\n",
       "      <td>KGGWFGKHRG</td>\n",
       "      <td>Hybrid</td>\n",
       "    </tr>\n",
       "    <tr>\n",
       "      <th>3</th>\n",
       "      <td>UCCGUGAUAG</td>\n",
       "      <td>Hybrid</td>\n",
       "    </tr>\n",
       "    <tr>\n",
       "      <th>4</th>\n",
       "      <td>IVEGSDAEIG</td>\n",
       "      <td>Protein</td>\n",
       "    </tr>\n",
       "  </tbody>\n",
       "</table>\n",
       "</div>"
      ],
      "text/plain": [
       "     sequence classification\n",
       "0  UCAGACUUUU            RNA\n",
       "1  KGGWFGKHRG         Hybrid\n",
       "2  KGGWFGKHRG         Hybrid\n",
       "3  UCCGUGAUAG         Hybrid\n",
       "4  IVEGSDAEIG        Protein"
      ]
     },
     "execution_count": 1,
     "metadata": {},
     "output_type": "execute_result"
    }
   ],
   "source": [
    "import numpy as np\n",
    "import pandas as pd\n",
    "data = pd.read_csv('normalized_data.csv')\n",
    "data.head()\n"
   ]
  },
  {
   "cell_type": "code",
   "execution_count": 13,
   "metadata": {},
   "outputs": [
    {
     "data": {
      "text/html": [
       "<script>requirejs.config({paths: { 'plotly': ['https://cdn.plot.ly/plotly-latest.min']},});if(!window.Plotly) {{require(['plotly'],function(plotly) {window.Plotly=plotly;});}}</script>"
      ],
      "text/vnd.plotly.v1+html": [
       "<script>requirejs.config({paths: { 'plotly': ['https://cdn.plot.ly/plotly-latest.min']},});if(!window.Plotly) {{require(['plotly'],function(plotly) {window.Plotly=plotly;});}}</script>"
      ]
     },
     "metadata": {},
     "output_type": "display_data"
    },
    {
     "data": {
      "application/vnd.plotly.v1+json": {
       "data": [
        {
         "hole": 0.4,
         "hoverinfo": "label+percent+name",
         "labels": [
          "Protein",
          "Hybrid",
          "RNA",
          "DNA"
         ],
         "marker": {
          "colors": [
           "SlateGray",
           "Orange",
           "Green",
           "DodgerBlue"
          ]
         },
         "name": "Macro Mol Type",
         "text": "Macro Mol Type",
         "textfont": {
          "color": "white",
          "size": 12
         },
         "textposition": "inside",
         "type": "pie",
         "values": [
          424,
          422,
          412,
          412
         ]
        }
       ],
       "layout": {
        "annotations": [
         {
          "font": {
           "size": 20
          },
          "showarrow": false,
          "text": "Macro Mol Type",
          "x": 0.5,
          "y": 0.5
         }
        ],
        "title": "Macro Molecule type Distribution"
       }
      },
      "text/html": [
       "<div id=\"c3c5385f-ea06-4585-9d1d-22fd45750b80\" style=\"height: 525px; width: 100%;\" class=\"plotly-graph-div\"></div><script type=\"text/javascript\">require([\"plotly\"], function(Plotly) { window.PLOTLYENV=window.PLOTLYENV || {};window.PLOTLYENV.BASE_URL=\"https://plot.ly\";Plotly.newPlot(\"c3c5385f-ea06-4585-9d1d-22fd45750b80\", [{\"values\": [424, 422, 412, 412], \"labels\": [\"Protein\", \"Hybrid\", \"RNA\", \"DNA\"], \"text\": \"Macro Mol Type\", \"textposition\": \"inside\", \"textfont\": {\"size\": 12, \"color\": \"white\"}, \"name\": \"Macro Mol Type\", \"hoverinfo\": \"label+percent+name\", \"hole\": 0.4, \"marker\": {\"colors\": [\"SlateGray\", \"Orange\", \"Green\", \"DodgerBlue\"]}, \"type\": \"pie\"}], {\"title\": \"Macro Molecule type Distribution\", \"annotations\": [{\"font\": {\"size\": 20}, \"showarrow\": false, \"text\": \"Macro Mol Type\", \"x\": 0.5, \"y\": 0.5}]}, {\"showLink\": true, \"linkText\": \"Export to plot.ly\"})});</script>"
      ],
      "text/vnd.plotly.v1+html": [
       "<div id=\"c3c5385f-ea06-4585-9d1d-22fd45750b80\" style=\"height: 525px; width: 100%;\" class=\"plotly-graph-div\"></div><script type=\"text/javascript\">require([\"plotly\"], function(Plotly) { window.PLOTLYENV=window.PLOTLYENV || {};window.PLOTLYENV.BASE_URL=\"https://plot.ly\";Plotly.newPlot(\"c3c5385f-ea06-4585-9d1d-22fd45750b80\", [{\"values\": [424, 422, 412, 412], \"labels\": [\"Protein\", \"Hybrid\", \"RNA\", \"DNA\"], \"text\": \"Macro Mol Type\", \"textposition\": \"inside\", \"textfont\": {\"size\": 12, \"color\": \"white\"}, \"name\": \"Macro Mol Type\", \"hoverinfo\": \"label+percent+name\", \"hole\": 0.4, \"marker\": {\"colors\": [\"SlateGray\", \"Orange\", \"Green\", \"DodgerBlue\"]}, \"type\": \"pie\"}], {\"title\": \"Macro Molecule type Distribution\", \"annotations\": [{\"font\": {\"size\": 20}, \"showarrow\": false, \"text\": \"Macro Mol Type\", \"x\": 0.5, \"y\": 0.5}]}, {\"showLink\": true, \"linkText\": \"Export to plot.ly\"})});</script>"
      ]
     },
     "metadata": {},
     "output_type": "display_data"
    }
   ],
   "source": [
    "from plotly.offline import init_notebook_mode, iplot\n",
    "\n",
    "init_notebook_mode(connected=True)\n",
    "\n",
    "ex = data.classification.value_counts()\n",
    "\n",
    "a = 'Macro Mol Type'\n",
    "colors = ['SlateGray','Orange','Green','DodgerBlue']\n",
    "fig = {\n",
    "      \"data\": [\n",
    "        {\n",
    "          \"values\":ex.values,\n",
    "          \"labels\":ex.index,\n",
    "          \"text\":a,\n",
    "          \"textposition\":\"inside\",\n",
    "          \"textfont\": {'size':12,'color':'white'},  \n",
    "          \"name\": a,\n",
    "          \"hoverinfo\":\"label+percent+name\",\n",
    "          \"hole\": .4,\n",
    "          'marker':{'colors':colors\n",
    "                   },\n",
    "          \"type\": \"pie\"\n",
    "        }],\n",
    "    \"layout\": {\n",
    "            \"title\":\"Macro Molecule type Distribution\",\n",
    "            \"annotations\": [\n",
    "                {\n",
    "                    \"font\": {\n",
    "                        \"size\": 20\n",
    "                    },\n",
    "                    \"showarrow\": False,\n",
    "                    \"text\": a,\n",
    "                    \"x\": 0.50,\n",
    "                    \"y\": 0.5\n",
    "                }]\n",
    "            }\n",
    "        }\n",
    "iplot(fig)                            "
   ]
  },
  {
   "cell_type": "code",
   "execution_count": 2,
   "metadata": {},
   "outputs": [
    {
     "name": "stdout",
     "output_type": "stream",
     "text": [
      "sequence          0\n",
      "classification    0\n",
      "dtype: int64\n"
     ]
    }
   ],
   "source": [
    "data = data.dropna()\n",
    "#print(data.shape)\n",
    "print(data.isnull().sum())\n",
    "#data = data.values"
   ]
  },
  {
   "cell_type": "code",
   "execution_count": 3,
   "metadata": {},
   "outputs": [
    {
     "name": "stderr",
     "output_type": "stream",
     "text": [
      "Using TensorFlow backend.\n",
      "/Users/faisalg/anaconda3/lib/python3.6/site-packages/tensorflow/python/framework/dtypes.py:523: FutureWarning: Passing (type, 1) or '1type' as a synonym of type is deprecated; in a future version of numpy, it will be understood as (type, (1,)) / '(1,)type'.\n",
      "  _np_qint8 = np.dtype([(\"qint8\", np.int8, 1)])\n",
      "/Users/faisalg/anaconda3/lib/python3.6/site-packages/tensorflow/python/framework/dtypes.py:524: FutureWarning: Passing (type, 1) or '1type' as a synonym of type is deprecated; in a future version of numpy, it will be understood as (type, (1,)) / '(1,)type'.\n",
      "  _np_quint8 = np.dtype([(\"quint8\", np.uint8, 1)])\n",
      "/Users/faisalg/anaconda3/lib/python3.6/site-packages/tensorflow/python/framework/dtypes.py:525: FutureWarning: Passing (type, 1) or '1type' as a synonym of type is deprecated; in a future version of numpy, it will be understood as (type, (1,)) / '(1,)type'.\n",
      "  _np_qint16 = np.dtype([(\"qint16\", np.int16, 1)])\n",
      "/Users/faisalg/anaconda3/lib/python3.6/site-packages/tensorflow/python/framework/dtypes.py:526: FutureWarning: Passing (type, 1) or '1type' as a synonym of type is deprecated; in a future version of numpy, it will be understood as (type, (1,)) / '(1,)type'.\n",
      "  _np_quint16 = np.dtype([(\"quint16\", np.uint16, 1)])\n",
      "/Users/faisalg/anaconda3/lib/python3.6/site-packages/tensorflow/python/framework/dtypes.py:527: FutureWarning: Passing (type, 1) or '1type' as a synonym of type is deprecated; in a future version of numpy, it will be understood as (type, (1,)) / '(1,)type'.\n",
      "  _np_qint32 = np.dtype([(\"qint32\", np.int32, 1)])\n",
      "/Users/faisalg/anaconda3/lib/python3.6/site-packages/tensorflow/python/framework/dtypes.py:532: FutureWarning: Passing (type, 1) or '1type' as a synonym of type is deprecated; in a future version of numpy, it will be understood as (type, (1,)) / '(1,)type'.\n",
      "  np_resource = np.dtype([(\"resource\", np.ubyte, 1)])\n"
     ]
    }
   ],
   "source": [
    "from keras.preprocessing import text, sequence\n",
    "from keras.preprocessing.text import Tokenizer\n",
    "from sklearn.model_selection import train_test_split\n",
    "\n",
    "# maximum length of sequence, everything afterwards is discarded!\n",
    "max_length = 512\n",
    "seqs = data.sequence.values\n",
    "#create and fit tokenizer\n",
    "tokenizer = Tokenizer(char_level=True)\n",
    "tokenizer.fit_on_texts(seqs)\n",
    "#represent input data as word rank number sequences\n",
    "X = tokenizer.texts_to_sequences(seqs)\n",
    "X = sequence.pad_sequences(X, maxlen=max_length)"
   ]
  },
  {
   "cell_type": "code",
   "execution_count": 4,
   "metadata": {},
   "outputs": [],
   "source": [
    "from sklearn.preprocessing import LabelBinarizer\n",
    "\n",
    "# Transform labels to one-hot\n",
    "lb = LabelBinarizer()\n",
    "Y = lb.fit_transform(data.classification)"
   ]
  },
  {
   "cell_type": "code",
   "execution_count": 5,
   "metadata": {},
   "outputs": [
    {
     "name": "stdout",
     "output_type": "stream",
     "text": [
      "_________________________________________________________________\n",
      "Layer (type)                 Output Shape              Param #   \n",
      "=================================================================\n",
      "embedding_1 (Embedding)      (None, 512, 8)            184       \n",
      "_________________________________________________________________\n",
      "bidirectional_1 (Bidirection (None, 512, 400)          334400    \n",
      "_________________________________________________________________\n",
      "bidirectional_2 (Bidirection (None, 400)               961600    \n",
      "_________________________________________________________________\n",
      "dense_1 (Dense)              (None, 100)               40100     \n",
      "_________________________________________________________________\n",
      "dense_2 (Dense)              (None, 4)                 404       \n",
      "=================================================================\n",
      "Total params: 1,336,688\n",
      "Trainable params: 1,336,688\n",
      "Non-trainable params: 0\n",
      "_________________________________________________________________\n",
      "None\n",
      "Train on 1336 samples, validate on 334 samples\n",
      "Epoch 1/10\n",
      "1336/1336 [==============================] - 209s 156ms/step - loss: 0.5604 - acc: 0.7500 - val_loss: 0.5495 - val_acc: 0.7500\n",
      "Epoch 2/10\n",
      "1336/1336 [==============================] - 206s 154ms/step - loss: 0.5233 - acc: 0.7498 - val_loss: 0.4613 - val_acc: 0.7545\n",
      "Epoch 3/10\n",
      "1336/1336 [==============================] - 200s 150ms/step - loss: 0.4556 - acc: 0.7766 - val_loss: 0.4080 - val_acc: 0.8106\n",
      "Epoch 4/10\n",
      "1336/1336 [==============================] - 224s 167ms/step - loss: 0.3679 - acc: 0.8230 - val_loss: 0.3872 - val_acc: 0.8061\n",
      "Epoch 5/10\n",
      "1336/1336 [==============================] - 212s 158ms/step - loss: 0.3368 - acc: 0.8460 - val_loss: 0.3661 - val_acc: 0.8174\n",
      "Epoch 6/10\n",
      "1336/1336 [==============================] - 212s 159ms/step - loss: 0.3248 - acc: 0.8434 - val_loss: 0.3280 - val_acc: 0.8436\n",
      "Epoch 7/10\n",
      "1336/1336 [==============================] - 207s 155ms/step - loss: 0.3039 - acc: 0.8546 - val_loss: 0.3203 - val_acc: 0.8361\n",
      "Epoch 8/10\n",
      "1336/1336 [==============================] - 215s 161ms/step - loss: 0.2844 - acc: 0.8647 - val_loss: 0.2916 - val_acc: 0.8391\n",
      "Epoch 9/10\n",
      "1336/1336 [==============================] - 209s 157ms/step - loss: 0.3375 - acc: 0.8512 - val_loss: 0.3318 - val_acc: 0.8585\n",
      "Epoch 10/10\n",
      "1336/1336 [==============================] - 230s 172ms/step - loss: 0.3134 - acc: 0.8694 - val_loss: 0.2825 - val_acc: 0.8772\n"
     ]
    }
   ],
   "source": [
    "# LSTM for sequence classification in the IMDB dataset\n",
    "import numpy\n",
    "from keras.models import Sequential\n",
    "from keras.layers import Dense\n",
    "from keras.layers import LSTM,Bidirectional\n",
    "from keras.layers.embeddings import Embedding\n",
    "from keras.preprocessing import sequence\n",
    "# fix random seed for reproducibility\n",
    "numpy.random.seed(7)\n",
    "embedding_dim = 8\n",
    "\n",
    "# create the model\n",
    "model = Sequential()\n",
    "model.add(Embedding(len(tokenizer.word_index)+1, embedding_dim, input_length=max_length))\n",
    "model.add(Bidirectional(LSTM(200,return_sequences=True)))\n",
    "model.add(Bidirectional(LSTM(200)))\n",
    "model.add(Dense(100, activation='relu'))\n",
    "model.add(Dense(4, activation='softmax'))\n",
    "model.compile(loss='binary_crossentropy', optimizer='adam', metrics=['accuracy'])\n",
    "print(model.summary())\n",
    "X_train, X_test, y_train, y_test = train_test_split(X, Y, test_size=.2)\n",
    "history = model.fit(X_train, y_train, validation_data=(X_test, y_test), epochs=10, batch_size=128)\n",
    "\n",
    "\n"
   ]
  },
  {
   "cell_type": "code",
   "execution_count": 12,
   "metadata": {},
   "outputs": [
    {
     "name": "stdout",
     "output_type": "stream",
     "text": [
      "train-acc = 81.3622754491018\n",
      "test-acc = 77.54491017964071\n"
     ]
    }
   ],
   "source": [
    "%matplotlib inline\n",
    "import matplotlib as plt\n",
    "from sklearn.metrics import confusion_matrix\n",
    "from sklearn.metrics import accuracy_score\n",
    "from sklearn.metrics import classification_report\n",
    "import itertools\n",
    "\n",
    "train_pred = model.predict(X_train)\n",
    "test_pred = model.predict(X_test)\n",
    "print(\"train-acc = \" + str(accuracy_score(np.argmax(y_train, axis=1), np.argmax(train_pred, axis=1))*100))\n",
    "print(\"test-acc = \" + str(accuracy_score(np.argmax(y_test, axis=1), np.argmax(test_pred, axis=1))*100))\n",
    "\n",
    "\n",
    "\n"
   ]
  },
  {
   "cell_type": "code",
   "execution_count": 13,
   "metadata": {},
   "outputs": [
    {
     "data": {
      "image/png": "[encoded data removed]",
      "text/plain": [
       "<Figure size 720x720 with 2 Axes>"
      ]
     },
     "metadata": {
      "needs_background": "light"
     },
     "output_type": "display_data"
    },
    {
     "name": "stdout",
     "output_type": "stream",
     "text": [
      "              precision    recall  f1-score   support\n",
      "\n",
      "         DNA       0.72      0.97      0.83        74\n",
      "      Hybrid       0.69      0.38      0.49        87\n",
      "     Protein       0.76      0.86      0.81        90\n",
      "         RNA       0.91      0.93      0.92        83\n",
      "\n",
      "   micro avg       0.78      0.78      0.78       334\n",
      "   macro avg       0.77      0.78      0.76       334\n",
      "weighted avg       0.77      0.78      0.76       334\n",
      "\n"
     ]
    }
   ],
   "source": [
    "import matplotlib.pyplot as plt\n",
    "%matplotlib inline\n",
    "# Compute confusion matrix\n",
    "cm = confusion_matrix(np.argmax(y_test, axis=1), np.argmax(test_pred, axis=1))\n",
    "\n",
    "# Plot normalized confusion matrix\n",
    "cm = cm.astype('float') / cm.sum(axis=1)[:, np.newaxis]\n",
    "np.set_printoptions(precision=2)\n",
    "plt.figure(figsize=(10,10))\n",
    "plt.imshow(cm, interpolation='nearest', cmap=plt.cm.Blues)\n",
    "plt.title('Confusion matrix')\n",
    "plt.colorbar()\n",
    "tick_marks = np.arange(len(lb.classes_))\n",
    "plt.xticks(tick_marks, lb.classes_, rotation=90)\n",
    "plt.yticks(tick_marks, lb.classes_)\n",
    "#for i, j in itertools.product(range(cm.shape[0]), range(cm.shape[1])):\n",
    "#    plt.text(j, i, format(cm[i, j], '.2f'), horizontalalignment=\"center\", color=\"white\" if cm[i, j] > cm.max() / 2. else \"black\")\n",
    "plt.ylabel('True label')\n",
    "plt.xlabel('Predicted label')\n",
    "plt.show()\n",
    "\n",
    "print(classification_report(np.argmax(y_test, axis=1), np.argmax(test_pred, axis=1), target_names=lb.classes_))"
   ]
  },
  {
   "cell_type": "code",
   "execution_count": 14,
   "metadata": {},
   "outputs": [
    {
     "data": {
      "image/png": "[encoded data removed]",
      "text/plain": [
       "<Figure size 432x288 with 1 Axes>"
      ]
     },
     "metadata": {
      "needs_background": "light"
     },
     "output_type": "display_data"
    },
    {
     "data": {
      "image/png": "[encoded data removed]",
      "text/plain": [
       "<Figure size 432x288 with 1 Axes>"
      ]
     },
     "metadata": {
      "needs_background": "light"
     },
     "output_type": "display_data"
    }
   ],
   "source": [
    "history_dict = history.history\n",
    "history_dict.keys()\n",
    "\n",
    "acc = history_dict['acc']\n",
    "val_acc = history_dict['val_acc']\n",
    "loss = history_dict['loss']\n",
    "val_loss = history_dict['val_loss']\n",
    "\n",
    "epochs = range(1, len(acc) + 1)\n",
    "\n",
    "plt.plot(epochs, loss, 'r', label='Training loss')\n",
    "# b is for \"solid blue line\"\n",
    "plt.plot(epochs, val_loss, 'b', label='Validation loss')\n",
    "plt.title('Training and validation loss')\n",
    "plt.xlabel('Epochs')\n",
    "plt.ylabel('Loss')\n",
    "plt.legend()\n",
    "\n",
    "plt.show()\n",
    "\n",
    "plt.clf()   # clear figure\n",
    "\n",
    "plt.plot(epochs, acc, 'r', label='Training acc')\n",
    "plt.plot(epochs, val_acc, 'b', label='Validation acc')\n",
    "plt.title('Training and validation accuracy')\n",
    "plt.xlabel('Epochs')\n",
    "plt.ylabel('Accuracy')\n",
    "plt.legend()\n",
    "\n",
    "plt.show()"
   ]
  },
  {
   "cell_type": "code",
   "execution_count": 18,
   "metadata": {},
   "outputs": [
    {
     "name": "stdout",
     "output_type": "stream",
     "text": [
      "_________________________________________________________________\n",
      "Layer (type)                 Output Shape              Param #   \n",
      "=================================================================\n",
      "embedding_6 (Embedding)      (None, 512, 8)            184       \n",
      "_________________________________________________________________\n",
      "conv1d_5 (Conv1D)            (None, 512, 32)           800       \n",
      "_________________________________________________________________\n",
      "max_pooling1d_3 (MaxPooling1 (None, 256, 32)           0         \n",
      "_________________________________________________________________\n",
      "conv1d_6 (Conv1D)            (None, 256, 32)           3104      \n",
      "_________________________________________________________________\n",
      "lstm_9 (LSTM)                (None, 256, 100)          53200     \n",
      "_________________________________________________________________\n",
      "lstm_10 (LSTM)               (None, 100)               80400     \n",
      "_________________________________________________________________\n",
      "dense_7 (Dense)              (None, 4)                 404       \n",
      "=================================================================\n",
      "Total params: 138,092\n",
      "Trainable params: 138,092\n",
      "Non-trainable params: 0\n",
      "_________________________________________________________________\n",
      "None\n",
      "Train on 1336 samples, validate on 334 samples\n",
      "Epoch 1/50\n",
      "1336/1336 [==============================] - 10s 8ms/step - loss: 0.6605 - acc: 0.7167 - val_loss: 0.5772 - val_acc: 0.7500\n",
      "Epoch 2/50\n",
      "1336/1336 [==============================] - 8s 6ms/step - loss: 0.5710 - acc: 0.7500 - val_loss: 0.5652 - val_acc: 0.7500\n",
      "Epoch 3/50\n",
      "1336/1336 [==============================] - 8s 6ms/step - loss: 0.5644 - acc: 0.7500 - val_loss: 0.5617 - val_acc: 0.7500\n",
      "Epoch 4/50\n",
      "1336/1336 [==============================] - 10s 8ms/step - loss: 0.5627 - acc: 0.7500 - val_loss: 0.5608 - val_acc: 0.7500\n",
      "Epoch 5/50\n",
      "1336/1336 [==============================] - 8s 6ms/step - loss: 0.5606 - acc: 0.7500 - val_loss: 0.5582 - val_acc: 0.7500\n",
      "Epoch 6/50\n",
      "1336/1336 [==============================] - 8s 6ms/step - loss: 0.5538 - acc: 0.7500 - val_loss: 0.5394 - val_acc: 0.7500\n",
      "Epoch 7/50\n",
      "1336/1336 [==============================] - 8s 6ms/step - loss: 0.5076 - acc: 0.7515 - val_loss: 0.4319 - val_acc: 0.7844\n",
      "Epoch 8/50\n",
      "1336/1336 [==============================] - 8s 6ms/step - loss: 0.4197 - acc: 0.7672 - val_loss: 0.3969 - val_acc: 0.8189\n",
      "Epoch 9/50\n",
      "1336/1336 [==============================] - 8s 6ms/step - loss: 0.3843 - acc: 0.8249 - val_loss: 0.3536 - val_acc: 0.8331\n",
      "Epoch 10/50\n",
      "1336/1336 [==============================] - 8s 6ms/step - loss: 0.3250 - acc: 0.8525 - val_loss: 0.2934 - val_acc: 0.8728\n",
      "Epoch 11/50\n",
      "1336/1336 [==============================] - 8s 6ms/step - loss: 0.2793 - acc: 0.8789 - val_loss: 0.2760 - val_acc: 0.8780\n",
      "Epoch 12/50\n",
      "1336/1336 [==============================] - 8s 6ms/step - loss: 0.2609 - acc: 0.8881 - val_loss: 0.2698 - val_acc: 0.8907\n",
      "Epoch 13/50\n",
      "1336/1336 [==============================] - 8s 6ms/step - loss: 0.2406 - acc: 0.9076 - val_loss: 0.2600 - val_acc: 0.8967\n",
      "Epoch 14/50\n",
      "1336/1336 [==============================] - 8s 6ms/step - loss: 0.2314 - acc: 0.9106 - val_loss: 0.2579 - val_acc: 0.8952\n",
      "Epoch 15/50\n",
      "1336/1336 [==============================] - 8s 6ms/step - loss: 0.2276 - acc: 0.9121 - val_loss: 0.2615 - val_acc: 0.8892\n",
      "Epoch 16/50\n",
      "1336/1336 [==============================] - 8s 6ms/step - loss: 0.2249 - acc: 0.9107 - val_loss: 0.2687 - val_acc: 0.8817\n",
      "Epoch 17/50\n",
      "1336/1336 [==============================] - 8s 6ms/step - loss: 0.2439 - acc: 0.8969 - val_loss: 0.2639 - val_acc: 0.8892\n",
      "Epoch 18/50\n",
      "1336/1336 [==============================] - 8s 6ms/step - loss: 0.2308 - acc: 0.9126 - val_loss: 0.2610 - val_acc: 0.8855\n",
      "Epoch 19/50\n",
      "1336/1336 [==============================] - 8s 6ms/step - loss: 0.2248 - acc: 0.9111 - val_loss: 0.2690 - val_acc: 0.8757\n",
      "Epoch 20/50\n",
      "1336/1336 [==============================] - 8s 6ms/step - loss: 0.2208 - acc: 0.9145 - val_loss: 0.2561 - val_acc: 0.8930\n",
      "Epoch 21/50\n",
      "1336/1336 [==============================] - 8s 6ms/step - loss: 0.2148 - acc: 0.9222 - val_loss: 0.2524 - val_acc: 0.9019\n",
      "Epoch 22/50\n",
      "1336/1336 [==============================] - 8s 6ms/step - loss: 0.2119 - acc: 0.9210 - val_loss: 0.2617 - val_acc: 0.8885\n",
      "Epoch 23/50\n",
      "1336/1336 [==============================] - 8s 6ms/step - loss: 0.2116 - acc: 0.9205 - val_loss: 0.2515 - val_acc: 0.9012\n",
      "Epoch 24/50\n",
      "1336/1336 [==============================] - 8s 6ms/step - loss: 0.2059 - acc: 0.9244 - val_loss: 0.2503 - val_acc: 0.9064\n",
      "Epoch 25/50\n",
      "1336/1336 [==============================] - 8s 6ms/step - loss: 0.2172 - acc: 0.9186 - val_loss: 0.2618 - val_acc: 0.8900\n",
      "Epoch 26/50\n",
      "1336/1336 [==============================] - 8s 6ms/step - loss: 0.2209 - acc: 0.9150 - val_loss: 0.2493 - val_acc: 0.9019\n",
      "Epoch 27/50\n",
      "1336/1336 [==============================] - 8s 6ms/step - loss: 0.2124 - acc: 0.9179 - val_loss: 0.2483 - val_acc: 0.8997\n",
      "Epoch 28/50\n",
      "1336/1336 [==============================] - 8s 6ms/step - loss: 0.2033 - acc: 0.9251 - val_loss: 0.2517 - val_acc: 0.8967\n",
      "Epoch 29/50\n",
      "1336/1336 [==============================] - 8s 6ms/step - loss: 0.1986 - acc: 0.9272 - val_loss: 0.2548 - val_acc: 0.8915\n",
      "Epoch 30/50\n",
      "1336/1336 [==============================] - 8s 6ms/step - loss: 0.1977 - acc: 0.9295 - val_loss: 0.2494 - val_acc: 0.8997\n",
      "Epoch 31/50\n",
      "1336/1336 [==============================] - 8s 6ms/step - loss: 0.1972 - acc: 0.9268 - val_loss: 0.2459 - val_acc: 0.9019\n",
      "Epoch 32/50\n",
      "1336/1336 [==============================] - 8s 6ms/step - loss: 0.1968 - acc: 0.9293 - val_loss: 0.2553 - val_acc: 0.8930\n",
      "Epoch 33/50\n",
      "1336/1336 [==============================] - 8s 6ms/step - loss: 0.1935 - acc: 0.9302 - val_loss: 0.2627 - val_acc: 0.8900\n",
      "Epoch 34/50\n",
      "1336/1336 [==============================] - 8s 6ms/step - loss: 0.1896 - acc: 0.9311 - val_loss: 0.2511 - val_acc: 0.8945\n",
      "Epoch 35/50\n",
      "1336/1336 [==============================] - 8s 6ms/step - loss: 0.1850 - acc: 0.9343 - val_loss: 0.2439 - val_acc: 0.8997\n",
      "Epoch 36/50\n",
      "1336/1336 [==============================] - 8s 6ms/step - loss: 0.1844 - acc: 0.9341 - val_loss: 0.2500 - val_acc: 0.8915\n",
      "Epoch 37/50\n",
      "1336/1336 [==============================] - 8s 6ms/step - loss: 0.1810 - acc: 0.9328 - val_loss: 0.2417 - val_acc: 0.9019\n",
      "Epoch 38/50\n",
      "1336/1336 [==============================] - 8s 6ms/step - loss: 0.1762 - acc: 0.9356 - val_loss: 0.2514 - val_acc: 0.8952\n",
      "Epoch 39/50\n",
      "1336/1336 [==============================] - 8s 6ms/step - loss: 0.1744 - acc: 0.9381 - val_loss: 0.2682 - val_acc: 0.8877\n",
      "Epoch 40/50\n",
      "1336/1336 [==============================] - 8s 6ms/step - loss: 0.1971 - acc: 0.9212 - val_loss: 0.2611 - val_acc: 0.8937\n",
      "Epoch 41/50\n",
      "1336/1336 [==============================] - 8s 6ms/step - loss: 0.1882 - acc: 0.9332 - val_loss: 0.2775 - val_acc: 0.8795\n",
      "Epoch 42/50\n",
      "1336/1336 [==============================] - 8s 6ms/step - loss: 0.1818 - acc: 0.9351 - val_loss: 0.2483 - val_acc: 0.8945\n",
      "Epoch 43/50\n",
      "1336/1336 [==============================] - 8s 6ms/step - loss: 0.1737 - acc: 0.9338 - val_loss: 0.2437 - val_acc: 0.8990\n",
      "Epoch 44/50\n",
      "1336/1336 [==============================] - 8s 6ms/step - loss: 0.1742 - acc: 0.9366 - val_loss: 0.2362 - val_acc: 0.8997\n",
      "Epoch 45/50\n",
      "1336/1336 [==============================] - 8s 6ms/step - loss: 0.1738 - acc: 0.9386 - val_loss: 0.2404 - val_acc: 0.8975\n",
      "Epoch 46/50\n",
      "1336/1336 [==============================] - 8s 6ms/step - loss: 0.1741 - acc: 0.9354 - val_loss: 0.2311 - val_acc: 0.9042\n",
      "Epoch 47/50\n",
      "1336/1336 [==============================] - 8s 6ms/step - loss: 0.1722 - acc: 0.9354 - val_loss: 0.2562 - val_acc: 0.8862\n",
      "Epoch 48/50\n",
      "1336/1336 [==============================] - 8s 6ms/step - loss: 0.1732 - acc: 0.9336 - val_loss: 0.2442 - val_acc: 0.8967\n",
      "Epoch 49/50\n",
      "1336/1336 [==============================] - 8s 6ms/step - loss: 0.1629 - acc: 0.9386 - val_loss: 0.2415 - val_acc: 0.8990\n",
      "Epoch 50/50\n",
      "1336/1336 [==============================] - 8s 6ms/step - loss: 0.1541 - acc: 0.9420 - val_loss: 0.2264 - val_acc: 0.9004\n"
     ]
    }
   ],
   "source": [
    "from keras.layers import Dense, Conv1D, MaxPooling1D, Flatten\n",
    "# create the model\n",
    "embedding_vecor_length = 32\n",
    "model = Sequential()\n",
    "model.add(Embedding(len(tokenizer.word_index)+1, embedding_dim, input_length=max_length))\n",
    "model.add(Conv1D(filters=32, kernel_size=3, padding='same', activation='relu'))\n",
    "model.add(MaxPooling1D(pool_size=2))\n",
    "model.add(Conv1D(filters=32, kernel_size=3, padding='same', activation='relu'))\n",
    "model.add(LSTM(100,return_sequences=True))\n",
    "model.add(LSTM(100))\n",
    "model.add(Dense(4, activation='sigmoid'))\n",
    "model.compile(loss='binary_crossentropy', optimizer='adam', metrics=['accuracy'])\n",
    "print(model.summary())\n",
    "X_train, X_test, y_train, y_test = train_test_split(X, Y, test_size=.2)\n",
    "history = model.fit(X_train, y_train, validation_data=(X_test, y_test), epochs=50, batch_size=128)\n",
    "\n",
    "\n",
    "\n"
   ]
  },
  {
   "cell_type": "code",
   "execution_count": 20,
   "metadata": {},
   "outputs": [
    {
     "name": "stdout",
     "output_type": "stream",
     "text": [
      "train-acc = 88.47305389221557\n",
      "test-acc = 79.64071856287424\n"
     ]
    },
    {
     "data": {
      "image/png": "[encoded data removed]",
      "text/plain": [
       "<Figure size 720x720 with 2 Axes>"
      ]
     },
     "metadata": {
      "needs_background": "light"
     },
     "output_type": "display_data"
    },
    {
     "name": "stdout",
     "output_type": "stream",
     "text": [
      "              precision    recall  f1-score   support\n",
      "\n",
      "         DNA       0.78      0.94      0.85        82\n",
      "      Hybrid       0.69      0.41      0.52        80\n",
      "     Protein       0.79      0.87      0.83        91\n",
      "         RNA       0.89      0.95      0.92        81\n",
      "\n",
      "   micro avg       0.80      0.80      0.80       334\n",
      "   macro avg       0.79      0.79      0.78       334\n",
      "weighted avg       0.79      0.80      0.78       334\n",
      "\n"
     ]
    }
   ],
   "source": [
    "%matplotlib inline\n",
    "import matplotlib as plt\n",
    "from sklearn.metrics import confusion_matrix\n",
    "from sklearn.metrics import accuracy_score\n",
    "from sklearn.metrics import classification_report\n",
    "import itertools\n",
    "\n",
    "train_pred = model.predict(X_train)\n",
    "test_pred = model.predict(X_test)\n",
    "print(\"train-acc = \" + str(accuracy_score(np.argmax(y_train, axis=1), np.argmax(train_pred, axis=1))*100))\n",
    "print(\"test-acc = \" + str(accuracy_score(np.argmax(y_test, axis=1), np.argmax(test_pred, axis=1))*100))\n",
    "\n",
    "import matplotlib.pyplot as plt\n",
    "%matplotlib inline\n",
    "# Compute confusion matrix\n",
    "cm = confusion_matrix(np.argmax(y_test, axis=1), np.argmax(test_pred, axis=1))\n",
    "\n",
    "# Plot normalized confusion matrix\n",
    "cm = cm.astype('float') / cm.sum(axis=1)[:, np.newaxis]\n",
    "np.set_printoptions(precision=2)\n",
    "plt.figure(figsize=(10,10))\n",
    "plt.imshow(cm, interpolation='nearest', cmap=plt.cm.Blues)\n",
    "plt.title('Confusion matrix')\n",
    "plt.colorbar()\n",
    "tick_marks = np.arange(len(lb.classes_))\n",
    "plt.xticks(tick_marks, lb.classes_, rotation=90)\n",
    "plt.yticks(tick_marks, lb.classes_)\n",
    "#for i, j in itertools.product(range(cm.shape[0]), range(cm.shape[1])):\n",
    "#    plt.text(j, i, format(cm[i, j], '.2f'), horizontalalignment=\"center\", color=\"white\" if cm[i, j] > cm.max() / 2. else \"black\")\n",
    "plt.ylabel('True label')\n",
    "plt.xlabel('Predicted label')\n",
    "plt.show()\n",
    "\n",
    "print(classification_report(np.argmax(y_test, axis=1), np.argmax(test_pred, axis=1), target_names=lb.classes_))"
   ]
  },
  {
   "cell_type": "code",
   "execution_count": 21,
   "metadata": {},
   "outputs": [
    {
     "data": {
      "image/png": "[encoded data removed]",
      "text/plain": [
       "<Figure size 432x288 with 1 Axes>"
      ]
     },
     "metadata": {
      "needs_background": "light"
     },
     "output_type": "display_data"
    },
    {
     "data": {
      "image/png": "[encoded data removed]",
      "text/plain": [
       "<Figure size 432x288 with 1 Axes>"
      ]
     },
     "metadata": {
      "needs_background": "light"
     },
     "output_type": "display_data"
    }
   ],
   "source": [
    "history_dict = history.history\n",
    "history_dict.keys()\n",
    "\n",
    "acc = history_dict['acc']\n",
    "val_acc = history_dict['val_acc']\n",
    "loss = history_dict['loss']\n",
    "val_loss = history_dict['val_loss']\n",
    "\n",
    "epochs = range(1, len(acc) + 1)\n",
    "\n",
    "plt.plot(epochs, loss, 'r', label='Training loss')\n",
    "# b is for \"solid blue line\"\n",
    "plt.plot(epochs, val_loss, 'b', label='Validation loss')\n",
    "plt.title('Training and validation loss')\n",
    "plt.xlabel('Epochs')\n",
    "plt.ylabel('Loss')\n",
    "plt.legend()\n",
    "\n",
    "plt.show()\n",
    "\n",
    "plt.clf()   # clear figure\n",
    "\n",
    "plt.plot(epochs, acc, 'r', label='Training acc')\n",
    "plt.plot(epochs, val_acc, 'b', label='Validation acc')\n",
    "plt.title('Training and validation accuracy')\n",
    "plt.xlabel('Epochs')\n",
    "plt.ylabel('Accuracy')\n",
    "plt.legend()\n",
    "\n",
    "plt.show()"
   ]
  },
  {
   "cell_type": "code",
   "execution_count": 26,
   "metadata": {},
   "outputs": [
    {
     "name": "stdout",
     "output_type": "stream",
     "text": [
      "_________________________________________________________________\n",
      "Layer (type)                 Output Shape              Param #   \n",
      "=================================================================\n",
      "embedding_9 (Embedding)      (None, 512, 8)            184       \n",
      "_________________________________________________________________\n",
      "conv1d_11 (Conv1D)           (None, 512, 32)           800       \n",
      "_________________________________________________________________\n",
      "max_pooling1d_7 (MaxPooling1 (None, 256, 32)           0         \n",
      "_________________________________________________________________\n",
      "conv1d_12 (Conv1D)           (None, 256, 32)           3104      \n",
      "_________________________________________________________________\n",
      "max_pooling1d_8 (MaxPooling1 (None, 128, 32)           0         \n",
      "_________________________________________________________________\n",
      "gru_5 (GRU)                  (None, 128, 200)          139800    \n",
      "_________________________________________________________________\n",
      "gru_6 (GRU)                  (None, 200)               240600    \n",
      "_________________________________________________________________\n",
      "dense_10 (Dense)             (None, 4)                 804       \n",
      "=================================================================\n",
      "Total params: 385,292\n",
      "Trainable params: 385,292\n",
      "Non-trainable params: 0\n",
      "_________________________________________________________________\n",
      "None\n",
      "Train on 1336 samples, validate on 334 samples\n",
      "Epoch 1/50\n",
      "1336/1336 [==============================] - 11s 8ms/step - loss: 0.6380 - acc: 0.7292 - val_loss: 0.5687 - val_acc: 0.7500\n",
      "Epoch 2/50\n",
      "1336/1336 [==============================] - 8s 6ms/step - loss: 0.5665 - acc: 0.7500 - val_loss: 0.5602 - val_acc: 0.7500\n",
      "Epoch 3/50\n",
      "1336/1336 [==============================] - 8s 6ms/step - loss: 0.5598 - acc: 0.7500 - val_loss: 0.5544 - val_acc: 0.7500\n",
      "Epoch 4/50\n",
      "1336/1336 [==============================] - 8s 6ms/step - loss: 0.5411 - acc: 0.7500 - val_loss: 0.5072 - val_acc: 0.7500\n",
      "Epoch 5/50\n",
      "1336/1336 [==============================] - 8s 6ms/step - loss: 0.4624 - acc: 0.7627 - val_loss: 0.4180 - val_acc: 0.7844\n",
      "Epoch 6/50\n",
      "1336/1336 [==============================] - 8s 6ms/step - loss: 0.4166 - acc: 0.7826 - val_loss: 0.3947 - val_acc: 0.7717\n",
      "Epoch 7/50\n",
      "1336/1336 [==============================] - 8s 6ms/step - loss: 0.3810 - acc: 0.8103 - val_loss: 0.3575 - val_acc: 0.8278\n",
      "Epoch 8/50\n",
      "1336/1336 [==============================] - 8s 6ms/step - loss: 0.3427 - acc: 0.8284 - val_loss: 0.3124 - val_acc: 0.8510\n",
      "Epoch 9/50\n",
      "1336/1336 [==============================] - 8s 6ms/step - loss: 0.3098 - acc: 0.8512 - val_loss: 0.2948 - val_acc: 0.8720\n",
      "Epoch 10/50\n",
      "1336/1336 [==============================] - 8s 6ms/step - loss: 0.2885 - acc: 0.8613 - val_loss: 0.2867 - val_acc: 0.8795\n",
      "Epoch 11/50\n",
      "1336/1336 [==============================] - 8s 6ms/step - loss: 0.2728 - acc: 0.8703 - val_loss: 0.2656 - val_acc: 0.8787\n",
      "Epoch 12/50\n",
      "1336/1336 [==============================] - 8s 6ms/step - loss: 0.2548 - acc: 0.8823 - val_loss: 0.2535 - val_acc: 0.8982\n",
      "Epoch 13/50\n",
      "1336/1336 [==============================] - 8s 6ms/step - loss: 0.2431 - acc: 0.8965 - val_loss: 0.2500 - val_acc: 0.8982\n",
      "Epoch 14/50\n",
      "1336/1336 [==============================] - 8s 6ms/step - loss: 0.2348 - acc: 0.9042 - val_loss: 0.2363 - val_acc: 0.9019\n",
      "Epoch 15/50\n",
      "1336/1336 [==============================] - 8s 6ms/step - loss: 0.2269 - acc: 0.9062 - val_loss: 0.2355 - val_acc: 0.8975\n",
      "Epoch 16/50\n",
      "1336/1336 [==============================] - 8s 6ms/step - loss: 0.2307 - acc: 0.9051 - val_loss: 0.2536 - val_acc: 0.9004\n",
      "Epoch 17/50\n",
      "1336/1336 [==============================] - 8s 6ms/step - loss: 0.2263 - acc: 0.9091 - val_loss: 0.2267 - val_acc: 0.9042\n",
      "Epoch 18/50\n",
      "1336/1336 [==============================] - 9s 6ms/step - loss: 0.2131 - acc: 0.9147 - val_loss: 0.2229 - val_acc: 0.9109\n",
      "Epoch 19/50\n",
      "1336/1336 [==============================] - 8s 6ms/step - loss: 0.2110 - acc: 0.9203 - val_loss: 0.2240 - val_acc: 0.9072\n",
      "Epoch 20/50\n",
      "1336/1336 [==============================] - 8s 6ms/step - loss: 0.2105 - acc: 0.9171 - val_loss: 0.2323 - val_acc: 0.9132\n",
      "Epoch 21/50\n",
      "1336/1336 [==============================] - 8s 6ms/step - loss: 0.2074 - acc: 0.9167 - val_loss: 0.2169 - val_acc: 0.9139\n",
      "Epoch 22/50\n",
      "1336/1336 [==============================] - 8s 6ms/step - loss: 0.2010 - acc: 0.9222 - val_loss: 0.2140 - val_acc: 0.9124\n",
      "Epoch 23/50\n",
      "1336/1336 [==============================] - 8s 6ms/step - loss: 0.1915 - acc: 0.9304 - val_loss: 0.2139 - val_acc: 0.9139\n",
      "Epoch 24/50\n",
      "1336/1336 [==============================] - 8s 6ms/step - loss: 0.1861 - acc: 0.9300 - val_loss: 0.2097 - val_acc: 0.9132\n",
      "Epoch 25/50\n",
      "1336/1336 [==============================] - 8s 6ms/step - loss: 0.1835 - acc: 0.9304 - val_loss: 0.2145 - val_acc: 0.9192\n",
      "Epoch 26/50\n",
      "1336/1336 [==============================] - 8s 6ms/step - loss: 0.1792 - acc: 0.9353 - val_loss: 0.1968 - val_acc: 0.9207\n",
      "Epoch 27/50\n",
      "1336/1336 [==============================] - 8s 6ms/step - loss: 0.1712 - acc: 0.9368 - val_loss: 0.1952 - val_acc: 0.9207\n",
      "Epoch 28/50\n",
      "1336/1336 [==============================] - 8s 6ms/step - loss: 0.1615 - acc: 0.9429 - val_loss: 0.1881 - val_acc: 0.9259\n",
      "Epoch 29/50\n",
      "1336/1336 [==============================] - 8s 6ms/step - loss: 0.1556 - acc: 0.9450 - val_loss: 0.1885 - val_acc: 0.9281\n",
      "Epoch 30/50\n",
      "1336/1336 [==============================] - 8s 6ms/step - loss: 0.1511 - acc: 0.9476 - val_loss: 0.1883 - val_acc: 0.9222\n",
      "Epoch 31/50\n",
      "1336/1336 [==============================] - 8s 6ms/step - loss: 0.1533 - acc: 0.9439 - val_loss: 0.1977 - val_acc: 0.9214\n",
      "Epoch 32/50\n",
      "1336/1336 [==============================] - 8s 6ms/step - loss: 0.1501 - acc: 0.9469 - val_loss: 0.1634 - val_acc: 0.9304\n",
      "Epoch 33/50\n",
      "1336/1336 [==============================] - 8s 6ms/step - loss: 0.1328 - acc: 0.9562 - val_loss: 0.1603 - val_acc: 0.9371\n",
      "Epoch 34/50\n",
      "1336/1336 [==============================] - 8s 6ms/step - loss: 0.1248 - acc: 0.9600 - val_loss: 0.1679 - val_acc: 0.9326\n",
      "Epoch 35/50\n",
      "1336/1336 [==============================] - 8s 6ms/step - loss: 0.1304 - acc: 0.9564 - val_loss: 0.1664 - val_acc: 0.9431\n",
      "Epoch 36/50\n",
      "1336/1336 [==============================] - 9s 6ms/step - loss: 0.1364 - acc: 0.9502 - val_loss: 0.1734 - val_acc: 0.9326\n",
      "Epoch 37/50\n",
      "1336/1336 [==============================] - 8s 6ms/step - loss: 0.1141 - acc: 0.9620 - val_loss: 0.1402 - val_acc: 0.9416\n",
      "Epoch 38/50\n",
      "1336/1336 [==============================] - 9s 6ms/step - loss: 0.1033 - acc: 0.9674 - val_loss: 0.1326 - val_acc: 0.9446\n",
      "Epoch 39/50\n",
      "1336/1336 [==============================] - 8s 6ms/step - loss: 0.0980 - acc: 0.9689 - val_loss: 0.1407 - val_acc: 0.9439\n",
      "Epoch 40/50\n",
      "1336/1336 [==============================] - 8s 6ms/step - loss: 0.0958 - acc: 0.9697 - val_loss: 0.1324 - val_acc: 0.9499\n",
      "Epoch 41/50\n",
      "1336/1336 [==============================] - 8s 6ms/step - loss: 0.0910 - acc: 0.9702 - val_loss: 0.1310 - val_acc: 0.9528\n",
      "Epoch 42/50\n",
      "1336/1336 [==============================] - 9s 7ms/step - loss: 0.0841 - acc: 0.9723 - val_loss: 0.1354 - val_acc: 0.9528\n",
      "Epoch 43/50\n",
      "1336/1336 [==============================] - 9s 6ms/step - loss: 0.0791 - acc: 0.9736 - val_loss: 0.1546 - val_acc: 0.9499\n",
      "Epoch 44/50\n",
      "1336/1336 [==============================] - 8s 6ms/step - loss: 0.0867 - acc: 0.9732 - val_loss: 0.1431 - val_acc: 0.9476\n",
      "Epoch 45/50\n",
      "1336/1336 [==============================] - 8s 6ms/step - loss: 0.0747 - acc: 0.9751 - val_loss: 0.1224 - val_acc: 0.9528\n",
      "Epoch 46/50\n",
      "1336/1336 [==============================] - 10s 8ms/step - loss: 0.0796 - acc: 0.9755 - val_loss: 0.1650 - val_acc: 0.9439\n",
      "Epoch 47/50\n",
      "1336/1336 [==============================] - 10s 7ms/step - loss: 0.1105 - acc: 0.9701 - val_loss: 0.1559 - val_acc: 0.9409\n",
      "Epoch 48/50\n",
      "1336/1336 [==============================] - 9s 7ms/step - loss: 0.1063 - acc: 0.9676 - val_loss: 0.1353 - val_acc: 0.9484\n",
      "Epoch 49/50\n",
      "1336/1336 [==============================] - 8s 6ms/step - loss: 0.0887 - acc: 0.9738 - val_loss: 0.1300 - val_acc: 0.9499\n",
      "Epoch 50/50\n",
      "1336/1336 [==============================] - 8s 6ms/step - loss: 0.0785 - acc: 0.9774 - val_loss: 0.1274 - val_acc: 0.9506\n"
     ]
    }
   ],
   "source": [
    "from keras.layers import Dense, Conv1D, MaxPooling1D, Flatten,GRU\n",
    "# create the model\n",
    "embedding_vecor_length = 32\n",
    "model = Sequential()\n",
    "model.add(Embedding(len(tokenizer.word_index)+1, embedding_dim, input_length=max_length))\n",
    "model.add(Conv1D(filters=32, kernel_size=3, padding='same', activation='relu'))\n",
    "model.add(MaxPooling1D(pool_size=2))\n",
    "model.add(Conv1D(filters=32, kernel_size=3, padding='same', activation='relu'))\n",
    "model.add(MaxPooling1D(pool_size=2))\n",
    "model.add(GRU(200,return_sequences=True))\n",
    "model.add(GRU(200))\n",
    "model.add(Dense(4, activation='sigmoid'))\n",
    "model.compile(loss='binary_crossentropy', optimizer='adam', metrics=['accuracy'])\n",
    "print(model.summary())\n",
    "X_train, X_test, y_train, y_test = train_test_split(X, Y, test_size=.2)\n",
    "history = model.fit(X_train, y_train, validation_data=(X_test, y_test), epochs=50, batch_size=128)\n",
    "\n"
   ]
  },
  {
   "cell_type": "code",
   "execution_count": 27,
   "metadata": {},
   "outputs": [
    {
     "name": "stdout",
     "output_type": "stream",
     "text": [
      "train-acc = 95.73353293413174\n",
      "test-acc = 90.41916167664671\n"
     ]
    },
    {
     "data": {
      "image/png": "[encoded data removed]",
      "text/plain": [
       "<Figure size 720x720 with 2 Axes>"
      ]
     },
     "metadata": {
      "needs_background": "light"
     },
     "output_type": "display_data"
    },
    {
     "name": "stdout",
     "output_type": "stream",
     "text": [
      "              precision    recall  f1-score   support\n",
      "\n",
      "         DNA       0.88      0.96      0.92        85\n",
      "      Hybrid       0.87      0.84      0.85        80\n",
      "     Protein       0.93      0.91      0.92        78\n",
      "         RNA       0.93      0.90      0.92        91\n",
      "\n",
      "   micro avg       0.90      0.90      0.90       334\n",
      "   macro avg       0.90      0.90      0.90       334\n",
      "weighted avg       0.90      0.90      0.90       334\n",
      "\n"
     ]
    }
   ],
   "source": [
    "%matplotlib inline\n",
    "import matplotlib as plt\n",
    "from sklearn.metrics import confusion_matrix\n",
    "from sklearn.metrics import accuracy_score\n",
    "from sklearn.metrics import classification_report\n",
    "import itertools\n",
    "\n",
    "train_pred = model.predict(X_train)\n",
    "test_pred = model.predict(X_test)\n",
    "print(\"train-acc = \" + str(accuracy_score(np.argmax(y_train, axis=1), np.argmax(train_pred, axis=1))*100))\n",
    "print(\"test-acc = \" + str(accuracy_score(np.argmax(y_test, axis=1), np.argmax(test_pred, axis=1))*100))\n",
    "\n",
    "import matplotlib.pyplot as plt\n",
    "%matplotlib inline\n",
    "# Compute confusion matrix\n",
    "cm = confusion_matrix(np.argmax(y_test, axis=1), np.argmax(test_pred, axis=1))\n",
    "\n",
    "# Plot normalized confusion matrix\n",
    "cm = cm.astype('float') / cm.sum(axis=1)[:, np.newaxis]\n",
    "np.set_printoptions(precision=2)\n",
    "plt.figure(figsize=(10,10))\n",
    "plt.imshow(cm, interpolation='nearest', cmap=plt.cm.Blues)\n",
    "plt.title('Confusion matrix')\n",
    "plt.colorbar()\n",
    "tick_marks = np.arange(len(lb.classes_))\n",
    "plt.xticks(tick_marks, lb.classes_, rotation=90)\n",
    "plt.yticks(tick_marks, lb.classes_)\n",
    "#for i, j in itertools.product(range(cm.shape[0]), range(cm.shape[1])):\n",
    "#    plt.text(j, i, format(cm[i, j], '.2f'), horizontalalignment=\"center\", color=\"white\" if cm[i, j] > cm.max() / 2. else \"black\")\n",
    "plt.ylabel('True label')\n",
    "plt.xlabel('Predicted label')\n",
    "plt.show()\n",
    "\n",
    "print(classification_report(np.argmax(y_test, axis=1), np.argmax(test_pred, axis=1), target_names=lb.classes_))"
   ]
  },
  {
   "cell_type": "code",
   "execution_count": 28,
   "metadata": {},
   "outputs": [
    {
     "data": {
      "image/png": "[encoded data removed]",
      "text/plain": [
       "<Figure size 432x288 with 1 Axes>"
      ]
     },
     "metadata": {
      "needs_background": "light"
     },
     "output_type": "display_data"
    },
    {
     "data": {
      "image/png": "[encoded data removed]",
      "text/plain": [
       "<Figure size 432x288 with 1 Axes>"
      ]
     },
     "metadata": {
      "needs_background": "light"
     },
     "output_type": "display_data"
    }
   ],
   "source": [
    "history_dict = history.history\n",
    "history_dict.keys()\n",
    "\n",
    "acc = history_dict['acc']\n",
    "val_acc = history_dict['val_acc']\n",
    "loss = history_dict['loss']\n",
    "val_loss = history_dict['val_loss']\n",
    "\n",
    "epochs = range(1, len(acc) + 1)\n",
    "\n",
    "plt.plot(epochs, loss, 'r', label='Training loss')\n",
    "# b is for \"solid blue line\"\n",
    "plt.plot(epochs, val_loss, 'b', label='Validation loss')\n",
    "plt.title('Training and validation loss')\n",
    "plt.xlabel('Epochs')\n",
    "plt.ylabel('Loss')\n",
    "plt.legend()\n",
    "\n",
    "plt.show()\n",
    "\n",
    "plt.clf()   # clear figure\n",
    "\n",
    "plt.plot(epochs, acc, 'r', label='Training acc')\n",
    "plt.plot(epochs, val_acc, 'b', label='Validation acc')\n",
    "plt.title('Training and validation accuracy')\n",
    "plt.xlabel('Epochs')\n",
    "plt.ylabel('Accuracy')\n",
    "plt.legend()\n",
    "\n",
    "plt.show()"
   ]
  },
  {
   "cell_type": "code",
   "execution_count": 30,
   "metadata": {},
   "outputs": [
    {
     "name": "stdout",
     "output_type": "stream",
     "text": [
      "_________________________________________________________________\n",
      "Layer (type)                 Output Shape              Param #   \n",
      "=================================================================\n",
      "embedding_11 (Embedding)     (None, 512, 8)            184       \n",
      "_________________________________________________________________\n",
      "gru_9 (GRU)                  (None, 512, 200)          125400    \n",
      "_________________________________________________________________\n",
      "gru_10 (GRU)                 (None, 512, 200)          240600    \n",
      "_________________________________________________________________\n",
      "gru_11 (GRU)                 (None, 200)               240600    \n",
      "_________________________________________________________________\n",
      "dense_12 (Dense)             (None, 4)                 804       \n",
      "=================================================================\n",
      "Total params: 607,588\n",
      "Trainable params: 607,588\n",
      "Non-trainable params: 0\n",
      "_________________________________________________________________\n",
      "None\n",
      "Train on 1336 samples, validate on 334 samples\n",
      "Epoch 1/50\n",
      "1336/1336 [==============================] - 64s 48ms/step - loss: 0.6317 - acc: 0.7129 - val_loss: 0.5625 - val_acc: 0.7500\n",
      "Epoch 2/50\n",
      "1336/1336 [==============================] - 53s 39ms/step - loss: 0.5651 - acc: 0.7500 - val_loss: 0.5468 - val_acc: 0.7500\n",
      "Epoch 3/50\n",
      "1336/1336 [==============================] - 53s 39ms/step - loss: 0.4944 - acc: 0.7547 - val_loss: 0.5045 - val_acc: 0.7567\n",
      "Epoch 4/50\n",
      "1336/1336 [==============================] - 53s 40ms/step - loss: 0.4492 - acc: 0.7522 - val_loss: 0.4387 - val_acc: 0.7208\n",
      "Epoch 5/50\n",
      "1336/1336 [==============================] - 50s 37ms/step - loss: 0.4201 - acc: 0.7814 - val_loss: 0.4090 - val_acc: 0.8114\n",
      "Epoch 6/50\n",
      "1336/1336 [==============================] - 51s 38ms/step - loss: 0.3897 - acc: 0.8155 - val_loss: 0.3790 - val_acc: 0.8204\n",
      "Epoch 7/50\n",
      "1336/1336 [==============================] - 54s 40ms/step - loss: 0.3420 - acc: 0.8288 - val_loss: 0.3246 - val_acc: 0.8563\n",
      "Epoch 8/50\n",
      "1336/1336 [==============================] - 55s 41ms/step - loss: 0.3050 - acc: 0.8561 - val_loss: 0.3511 - val_acc: 0.8421\n",
      "Epoch 9/50\n",
      "1336/1336 [==============================] - 52s 39ms/step - loss: 0.3013 - acc: 0.8539 - val_loss: 0.3053 - val_acc: 0.8600\n",
      "Epoch 10/50\n",
      "1336/1336 [==============================] - 51s 38ms/step - loss: 0.2819 - acc: 0.8621 - val_loss: 0.3071 - val_acc: 0.8593\n",
      "Epoch 11/50\n",
      "1336/1336 [==============================] - 49s 37ms/step - loss: 0.2720 - acc: 0.8673 - val_loss: 0.2886 - val_acc: 0.8683\n",
      "Epoch 12/50\n",
      "1336/1336 [==============================] - 54s 41ms/step - loss: 0.2662 - acc: 0.8703 - val_loss: 0.2886 - val_acc: 0.8675\n",
      "Epoch 13/50\n",
      "1336/1336 [==============================] - 52s 39ms/step - loss: 0.2627 - acc: 0.8771 - val_loss: 0.2923 - val_acc: 0.8660\n",
      "Epoch 14/50\n",
      "1336/1336 [==============================] - 54s 41ms/step - loss: 0.2634 - acc: 0.8845 - val_loss: 0.2798 - val_acc: 0.8757\n",
      "Epoch 15/50\n",
      "1336/1336 [==============================] - 51s 38ms/step - loss: 0.2505 - acc: 0.8924 - val_loss: 0.2797 - val_acc: 0.8832\n",
      "Epoch 16/50\n",
      "1336/1336 [==============================] - 50s 37ms/step - loss: 0.2474 - acc: 0.9003 - val_loss: 0.2791 - val_acc: 0.8765\n",
      "Epoch 17/50\n",
      "1336/1336 [==============================] - 50s 37ms/step - loss: 0.2481 - acc: 0.8928 - val_loss: 0.2816 - val_acc: 0.8885\n",
      "Epoch 18/50\n",
      "1336/1336 [==============================] - 49s 37ms/step - loss: 0.2414 - acc: 0.8993 - val_loss: 0.2897 - val_acc: 0.8757\n",
      "Epoch 19/50\n",
      "1336/1336 [==============================] - 49s 37ms/step - loss: 0.2386 - acc: 0.9072 - val_loss: 0.2742 - val_acc: 0.8832\n",
      "Epoch 20/50\n",
      "1336/1336 [==============================] - 49s 37ms/step - loss: 0.2353 - acc: 0.9004 - val_loss: 0.2753 - val_acc: 0.8765\n",
      "Epoch 21/50\n",
      "1336/1336 [==============================] - 49s 37ms/step - loss: 0.2427 - acc: 0.8960 - val_loss: 0.2677 - val_acc: 0.8847\n",
      "Epoch 22/50\n",
      "1336/1336 [==============================] - 49s 37ms/step - loss: 0.2380 - acc: 0.9033 - val_loss: 0.2718 - val_acc: 0.8900\n",
      "Epoch 23/50\n",
      "1336/1336 [==============================] - 49s 37ms/step - loss: 0.2278 - acc: 0.9081 - val_loss: 0.2710 - val_acc: 0.8937\n",
      "Epoch 24/50\n",
      "1336/1336 [==============================] - 49s 37ms/step - loss: 0.2251 - acc: 0.9119 - val_loss: 0.2780 - val_acc: 0.8892\n",
      "Epoch 25/50\n",
      "1336/1336 [==============================] - 49s 37ms/step - loss: 0.2247 - acc: 0.9106 - val_loss: 0.2643 - val_acc: 0.8922\n",
      "Epoch 26/50\n",
      "1336/1336 [==============================] - 49s 37ms/step - loss: 0.2231 - acc: 0.9104 - val_loss: 0.2700 - val_acc: 0.8900\n",
      "Epoch 27/50\n",
      "1336/1336 [==============================] - 50s 37ms/step - loss: 0.2204 - acc: 0.9132 - val_loss: 0.2723 - val_acc: 0.8922\n",
      "Epoch 28/50\n",
      "1336/1336 [==============================] - 50s 37ms/step - loss: 0.2194 - acc: 0.9119 - val_loss: 0.2714 - val_acc: 0.8907\n",
      "Epoch 29/50\n",
      "1336/1336 [==============================] - 49s 37ms/step - loss: 0.2163 - acc: 0.9160 - val_loss: 0.2703 - val_acc: 0.8967\n",
      "Epoch 30/50\n",
      "1336/1336 [==============================] - 50s 37ms/step - loss: 0.2149 - acc: 0.9164 - val_loss: 0.2622 - val_acc: 0.8930\n",
      "Epoch 31/50\n",
      "1336/1336 [==============================] - 51s 38ms/step - loss: 0.2130 - acc: 0.9143 - val_loss: 0.2613 - val_acc: 0.8990\n",
      "Epoch 32/50\n",
      "1336/1336 [==============================] - 50s 37ms/step - loss: 0.2104 - acc: 0.9179 - val_loss: 0.2655 - val_acc: 0.8960\n",
      "Epoch 33/50\n",
      "1336/1336 [==============================] - 50s 37ms/step - loss: 0.2069 - acc: 0.9210 - val_loss: 0.2699 - val_acc: 0.8937\n",
      "Epoch 34/50\n",
      "1336/1336 [==============================] - 50s 37ms/step - loss: 0.2028 - acc: 0.9173 - val_loss: 0.2609 - val_acc: 0.8907\n",
      "Epoch 35/50\n",
      "1336/1336 [==============================] - 50s 37ms/step - loss: 0.1999 - acc: 0.9237 - val_loss: 0.2713 - val_acc: 0.8915\n",
      "Epoch 36/50\n",
      "1336/1336 [==============================] - 49s 37ms/step - loss: 0.2049 - acc: 0.9201 - val_loss: 0.2617 - val_acc: 0.8930\n",
      "Epoch 37/50\n",
      "1336/1336 [==============================] - 50s 37ms/step - loss: 0.1940 - acc: 0.9268 - val_loss: 0.2675 - val_acc: 0.8967\n",
      "Epoch 38/50\n",
      "1336/1336 [==============================] - 50s 38ms/step - loss: 0.1969 - acc: 0.9272 - val_loss: 0.2578 - val_acc: 0.8997\n",
      "Epoch 39/50\n",
      "1336/1336 [==============================] - 51s 38ms/step - loss: 0.1947 - acc: 0.9255 - val_loss: 0.2573 - val_acc: 0.8975\n",
      "Epoch 40/50\n",
      "1336/1336 [==============================] - 50s 38ms/step - loss: 0.2011 - acc: 0.9216 - val_loss: 0.2639 - val_acc: 0.9042\n",
      "Epoch 41/50\n",
      "1336/1336 [==============================] - 50s 37ms/step - loss: 0.1972 - acc: 0.9261 - val_loss: 0.2578 - val_acc: 0.9012\n",
      "Epoch 42/50\n",
      "1336/1336 [==============================] - 50s 38ms/step - loss: 0.1894 - acc: 0.9341 - val_loss: 0.2568 - val_acc: 0.9049\n",
      "Epoch 43/50\n",
      "1336/1336 [==============================] - 50s 38ms/step - loss: 0.1841 - acc: 0.9336 - val_loss: 0.2621 - val_acc: 0.8930\n",
      "Epoch 44/50\n",
      "1336/1336 [==============================] - 50s 37ms/step - loss: 0.1840 - acc: 0.9310 - val_loss: 0.2712 - val_acc: 0.9034\n",
      "Epoch 45/50\n",
      "1336/1336 [==============================] - 50s 38ms/step - loss: 0.1869 - acc: 0.9259 - val_loss: 0.2700 - val_acc: 0.9027\n",
      "Epoch 46/50\n",
      "1336/1336 [==============================] - 50s 38ms/step - loss: 0.1884 - acc: 0.9298 - val_loss: 0.2553 - val_acc: 0.8967\n",
      "Epoch 47/50\n",
      "1336/1336 [==============================] - 50s 38ms/step - loss: 0.1885 - acc: 0.9295 - val_loss: 0.2727 - val_acc: 0.8982\n",
      "Epoch 48/50\n",
      "1336/1336 [==============================] - 51s 38ms/step - loss: 0.1851 - acc: 0.9280 - val_loss: 0.2600 - val_acc: 0.9057\n",
      "Epoch 49/50\n",
      "1336/1336 [==============================] - 51s 38ms/step - loss: 0.1741 - acc: 0.9349 - val_loss: 0.2529 - val_acc: 0.9109\n",
      "Epoch 50/50\n",
      "1336/1336 [==============================] - 51s 38ms/step - loss: 0.1685 - acc: 0.9390 - val_loss: 0.2513 - val_acc: 0.9094\n"
     ]
    }
   ],
   "source": [
    "from keras.layers import Dense, Conv1D, MaxPooling1D, Flatten,GRU\n",
    "# create the model\n",
    "embedding_vecor_length = 32\n",
    "model = Sequential()\n",
    "model.add(Embedding(len(tokenizer.word_index)+1, embedding_dim, input_length=max_length))\n",
    "model.add(GRU(200,return_sequences=True))\n",
    "model.add(GRU(200,return_sequences=True))\n",
    "model.add(GRU(200))\n",
    "model.add(Dense(4, activation='sigmoid'))\n",
    "model.compile(loss='binary_crossentropy', optimizer='adam', metrics=['accuracy'])\n",
    "print(model.summary())\n",
    "X_train, X_test, y_train, y_test = train_test_split(X, Y, test_size=.2)\n",
    "history = model.fit(X_train, y_train, validation_data=(X_test, y_test), epochs=50, batch_size=128)\n",
    "\n",
    "\n"
   ]
  },
  {
   "cell_type": "code",
   "execution_count": null,
   "metadata": {},
   "outputs": [],
   "source": []
  }
 ],
 "metadata": {
  "kernelspec": {
   "display_name": "Python 3",
   "language": "python",
   "name": "python3"
  },
  "language_info": {
   "codemirror_mode": {
    "name": "ipython",
    "version": 3
   },
   "file_extension": ".py",
   "mimetype": "text/x-python",
   "name": "python",
   "nbconvert_exporter": "python",
   "pygments_lexer": "ipython3",
   "version": "3.6.8"
  }
 },
 "nbformat": 4,
 "nbformat_minor": 2
}
